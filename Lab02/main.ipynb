{
 "cells": [
  {
   "attachments": {},
   "cell_type": "markdown",
   "metadata": {},
   "source": [
    "# Lab02 : Graphs - Implement BFS and DFS on Graphs"
   ]
  },
  {
   "attachments": {},
   "cell_type": "markdown",
   "metadata": {},
   "source": [
    "## 1.\tSơ lược về các kiểu dữ liệu trừu tượng đồ thị"
   ]
  },
  {
   "attachments": {},
   "cell_type": "markdown",
   "metadata": {},
   "source": [
    "Ta sử dụng từ điển để cài đặt danh sách kề. Kiểu dữ liệu trừu tượng `Graph` sẽ có hai lớp: \n",
    "\n",
    "- `Graph` – chứa danh sách các đỉnh, và \n",
    "\n",
    "- `Vertex` - cho mỗi đỉnh trong đồ thị.\n",
    "\n",
    "Mỗi `Vertex` là một từ điển tên `connectTo` giữ các đỉnh khác kề với nó và trọng số của cạnh tương ứng. "
   ]
  },
  {
   "cell_type": "code",
   "execution_count": 1,
   "metadata": {},
   "outputs": [],
   "source": [
    "from Queue import Queue"
   ]
  },
  {
   "cell_type": "code",
   "execution_count": 2,
   "metadata": {},
   "outputs": [],
   "source": [
    "class Vertex(object):\n",
    "    \"\"\"Describes a vertex object in terms of a \"key\" and a\n",
    "    dictionary that indicates edges to neighboring vertices with\n",
    "    a specified weight.\n",
    "    \"\"\"\n",
    "    def __init__(self, key):\n",
    "        \"\"\"Constructs a vertex with a key value (no payload in\n",
    "        this example), and an empty dictionary in which we'll\n",
    "        store other vertices to which this vertex is connected.\n",
    "        \"\"\"\n",
    "        self.id = key\n",
    "        self.connectedTo = {}   # empty dictionary for vertices\n",
    "        self.color = 'white'\n",
    "        self.distance = 0\n",
    "        self.predecessor = None\n",
    "        self.discovery = 0           # discovery time\n",
    "        self.finish = 0            # finish time\n",
    "\n",
    "    def addNeighbor(self, neighbor, weight=0):\n",
    "        \"\"\"Creates a new vertex entry in the dictionary, to which this\n",
    "        vertex is connected by an edge. If a weight is not indicated,\n",
    "        default weight is 0.\n",
    "        \"\"\"\n",
    "        self.connectedTo[neighbor] = weight\n",
    "\n",
    "    def setColor(self, color):\n",
    "        self.color = color\n",
    "    \n",
    "    def getColor(self):\n",
    "        return self.color\n",
    "\n",
    "    def setDistance(self, distance):\n",
    "        self.distance = distance\n",
    "\n",
    "    def getDistance(self):\n",
    "        return self.distance\n",
    "\n",
    "    def setPred(self, predecessor):\n",
    "        self.predecessor = predecessor\n",
    "\n",
    "    def getPred(self):\n",
    "        return self.predecessor\n",
    "\n",
    "    def setDiscovery(self, dtime):\n",
    "        self.discovery = dtime\n",
    "\n",
    "    def getDiscovery(self):\n",
    "        return self.discovery\n",
    "\n",
    "    def setFinish(self, ftime):\n",
    "        self.finish = ftime\n",
    "\n",
    "    def getFinish(self):\n",
    "        return self.finish\n",
    "\n",
    "    def getConnections(self):\n",
    "        \"\"\"Returns the id values of the vertices we're connected to\n",
    "        \"\"\"\n",
    "        return self.connectedTo.keys()\n",
    "\n",
    "    def getId(self):\n",
    "        return self.id\n",
    "\n",
    "    def getWeight(self, neighbor):\n",
    "        return self.connectedTo[neighbor]\n",
    "\n",
    "    def __repr__(self):\n",
    "        \"\"\"Returns a representation of the graph, suitable for printing.\"\"\"\n",
    "        return \"Vertex[id=\" + str(self.id) + \\\n",
    "                     ',color=' + self.color + \\\n",
    "                     \",disc=\" + str(self.discovery) + \\\n",
    "                     \",fin=\" + str(self.finish) + \\\n",
    "                     \",dist=\" + str(self.distance) + \\\n",
    "                     \",pred\\t[\" + str(self.predecessor) + \\\n",
    "                     \"],neighbors=\" + str([e.id for e in self.connectedTo]) + \"]\\n\""
   ]
  },
  {
   "attachments": {},
   "cell_type": "markdown",
   "metadata": {},
   "source": [
    "Lớp `Graph` gồm một từ điển kết buộc tên đỉnh vào đối tượng đỉnh. `Graph` cũng cung cấp các phương thức để thêm một đỉnh vào đồ thị và nối đỉnh này với đỉnh khác. \n",
    "- Phương thức getVertices trả về tên nhãn tất cả các đỉnh trong đồ thị. \n",
    "\n",
    "- Ngoài ra, phương thức `__iter__` dùng để duyệt qua các đối tượng đỉnh trong đồ thị. \n",
    "\n",
    "Hai phương thức này cho phép duyệt các đỉnh theo tên hoặc theo đối tượng."
   ]
  },
  {
   "cell_type": "code",
   "execution_count": 3,
   "metadata": {},
   "outputs": [],
   "source": [
    "class Graph(object):\n",
    "    \"\"\"Establishes a graph as a dictionary of vertices, where each entry in\n",
    "    the dictionary has a key = the id of the vertex, and a value that is the\n",
    "    Vertex object itself.\n",
    "    \"\"\"\n",
    "\n",
    "    def __init__(self):\n",
    "        self.vertexDict = {}    # includes keys for vertex objects,\n",
    "                                # with the value the actual Vertex object\n",
    "\n",
    "    def addVertex(self, key):\n",
    "        \"\"\"Takes a key value, creates a vertex object for it, and adds that\n",
    "        object to the vertex dictionary.\n",
    "        \"\"\"\n",
    "        new_vertex = Vertex(key)\n",
    "        self.vertexDict[key] = new_vertex   # maps key to Vertex\n",
    "        return new_vertex\n",
    "\n",
    "    def getVertex(self, key):\n",
    "        \"\"\"Returns the Vertex object associated with this key\"\"\"\n",
    "        if key in self.vertexDict.keys():\n",
    "            return self.vertexDict[key]\n",
    "        else:\n",
    "            return None\n",
    "\n",
    "    def __contains__(self, vertex):\n",
    "        \"\"\"Allows us to use the \"in\" operator\"\"\"\n",
    "        return vertex in self.vertexDict.keys()\n",
    "\n",
    "    def addEdge(self, fromKey, toKey, weight=0):\n",
    "        \"\"\"If we don't already have a Vertex object for either key, create\n",
    "        one and add it to the vertex dictionary. Then add the second vertex\n",
    "        as a neighbor to the first, thus creating an edge in the graph.\n",
    "        \"\"\"\n",
    "        if fromKey not in self.vertexDict.keys():\n",
    "            self.addVertex(fromKey)\n",
    "        if toKey not in self.vertexDict.keys():\n",
    "            self.addVertex(toKey)\n",
    "        self.vertexDict[fromKey].addNeighbor(self.vertexDict[toKey], weight)\n",
    "\n",
    "    def getVertices(self):\n",
    "        return self.graph.keys()\n",
    "\n",
    "    def __iter__(self):\n",
    "        \"\"\"Allows us to iterate through the vertices in the graph:\n",
    "        for vertex in graph:\n",
    "            # do something with vertex\n",
    "        \"\"\"\n",
    "        return iter(self.vertexDict.values())\n",
    "\n"
   ]
  },
  {
   "attachments": {},
   "cell_type": "markdown",
   "metadata": {},
   "source": [
    "Viết chương trình `main()`để tạo `Graph` này và in ra biểu diễn `Python` của nó. Tạo một đồ thị `6` đỉnh, đánh nhãn từ `0` đến `5`, rồi hiển thị các đỉnh đó.\n",
    "- Lưu ý rằng đối với mỗi khóa từ `0` đến `5`, tạo một thể hiện của `Vertex`. \n",
    "\n",
    "- Tiếp theo, thêm các cạnh cho đồ thị. \n",
    "\n",
    "- Cuối cùng, hiển thị đồ thị\n"
   ]
  },
  {
   "cell_type": "code",
   "execution_count": 4,
   "metadata": {},
   "outputs": [
    {
     "name": "stdout",
     "output_type": "stream",
     "text": [
      "Vertex[id=0,color=white,disc=0,fin=0,dist=0,pred\t[None],neighbors=[1, 5]]\n",
      "\n",
      "Vertex[id=1,color=white,disc=0,fin=0,dist=0,pred\t[None],neighbors=[2, 3]]\n",
      "\n",
      "Vertex[id=2,color=white,disc=0,fin=0,dist=0,pred\t[None],neighbors=[4]]\n",
      "\n",
      "Vertex[id=3,color=white,disc=0,fin=0,dist=0,pred\t[None],neighbors=[2]]\n",
      "\n",
      "Vertex[id=4,color=white,disc=0,fin=0,dist=0,pred\t[None],neighbors=[3]]\n",
      "\n",
      "Vertex[id=5,color=white,disc=0,fin=0,dist=0,pred\t[None],neighbors=[4]]\n",
      "\n",
      "\n",
      "--------------\n",
      "\n",
      "(0, 1, 2)\n",
      "(0, 5, 12)\n",
      "(1, 2, 1)\n",
      "(1, 3, 5)\n",
      "(2, 4, 2)\n",
      "(3, 2, 7)\n",
      "(4, 3, 4)\n",
      "(5, 4, 6)\n"
     ]
    }
   ],
   "source": [
    "def main():\n",
    "    g = Graph()             # Create an empty graph\n",
    "    for i in range(6):      # Create a series of empty vertices with\n",
    "        g.addVertex(i)      # simple keys (the numbers 0-5)\n",
    "        \n",
    "    g.addEdge(0,1,2)        # Start adding edges connecting the vertices\n",
    "    g.addEdge(0,5,12)\n",
    "    g.addEdge(1,2,1)\n",
    "    g.addEdge(1,3,5)\n",
    "    g.addEdge(3,2,7)\n",
    "    g.addEdge(2,4,2)\n",
    "    g.addEdge(4,3,4)\n",
    "    g.addEdge(5,4,6)\n",
    "\n",
    "\n",
    "    # Here's one way of printing out the Graph\n",
    "    for v in g:     # This is possible because we implemented __iter__\n",
    "        print(v)\n",
    "    print(\"\\n--------------\\n\")\n",
    "    # Here's another way of printing out the graph\n",
    "    for v in g:\n",
    "        for w in v.getConnections():\n",
    "            print(\"(%s, %s, %d)\" % (v.getId(), w.getId(), v.getWeight(w)))\n",
    "\n",
    "if __name__ == \"__main__\":\n",
    "    main()\n"
   ]
  },
  {
   "cell_type": "markdown",
   "metadata": {},
   "source": [
    "## 2.\tBreadth-first Search"
   ]
  },
  {
   "attachments": {},
   "cell_type": "markdown",
   "metadata": {},
   "source": [
    "### Xây dựng đồ thị của các từ có bốn chữ cái (Four-Letter Words)\n",
    "\n",
    "Sử dụng thông tin ở trên, viết hàm `buildGraph(wordFile)` lấy một tệp từ, xây dựng một từ điển gồm tất cả các từ, sau đó tạo một graph trong mỗi nhóm, trong đó mỗi từ trong một nhóm được kết nối thông qua một cạnh với mọi từ khác trong nhóm đó.\n"
   ]
  },
  {
   "cell_type": "code",
   "execution_count": 5,
   "metadata": {},
   "outputs": [],
   "source": [
    "def buildGraph(wordFile):\n",
    "    d = {}\n",
    "    g = Graph()\n",
    "    wfile = open(wordFile,'r')\n",
    "    # create buckets of words that differ by one letter\n",
    "    for line in wfile:\n",
    "        # print(line[-1])\n",
    "        # last char is '\\n'\n",
    "        word = line[:-1]\n",
    "        # print(word)\n",
    "        for i in range(len(word)):\n",
    "            bucket = word[:i] + '_' + word[i+1:]\n",
    "            if bucket in d:\n",
    "                d[bucket].append(word)\n",
    "            else:\n",
    "                d[bucket] = [word]\n",
    "    # add vertices and edges for words in the same bucket\n",
    "    for bucket in d.keys():\n",
    "        for word1 in d[bucket]:\n",
    "            for word2 in d[bucket]:\n",
    "                if word1 != word2:\n",
    "                    g.addEdge(word1,word2)\n",
    "    return g\n"
   ]
  },
  {
   "attachments": {},
   "cell_type": "markdown",
   "metadata": {},
   "source": [
    "### Bổ sung một số phương thức cho Vertex class "
   ]
  },
  {
   "cell_type": "code",
   "execution_count": 6,
   "metadata": {},
   "outputs": [],
   "source": [
    "def getDistance(self):\n",
    "        return self.distance\n",
    "\n",
    "def setPred(self, predecessor):\n",
    "    self.predecessor = predecessor\n",
    "\n",
    "def getPred(self):\n",
    "    return self.predecessor\n",
    "\n",
    "def setDiscovery(self, dtime):\n",
    "    self.discovery = dtime\n",
    "\n",
    "def getDiscovery(self):\n",
    "    return self.discovery\n",
    "\n",
    "def setFinish(self, ftime):\n",
    "    self.finish = ftime\n",
    "\n",
    "def getFinish(self):\n",
    "    return self.finish\n",
    "\n",
    "def getConnections(self):\n",
    "    \"\"\"Returns the id values of the vertices we're connected to\n",
    "    \"\"\"\n",
    "    return self.connectedTo.keys()\n",
    "\n",
    "def getID(self):\n",
    "    return self.id\n",
    "\n",
    "def getWeight(self, neighbor):\n",
    "    return self.connectedTo[neighbor]\n",
    "\n",
    "def __repr__(self):\n",
    "    \"\"\"Returns a representation of the graph, suitable for printing.\"\"\"\n",
    "    return \"Vertex[id=\" + str(self.id) + \\\n",
    "                 ',color=' + self.color + \\\n",
    "                 \",disc=\" + str(self.discovery) + \\\n",
    "                 \",fin=\" + str(self.finish) + \\\n",
    "                 \",dist=\" + str(self.distance) + \\\n",
    "                 \",pred\\t[\" + str(self.predecessor) + \\\n",
    "                 \"],neighbors=\" + str([e.id for e in self.connectedTo]) + \"]\\n\"\n"
   ]
  },
  {
   "attachments": {},
   "cell_type": "markdown",
   "metadata": {},
   "source": [
    "### Cài đặt BFS \n",
    "\n",
    "Đoạn mã sau sử dụng biểu diễn đồ thị bằng danh sách kề. Sử dụng thêm một hàng đợi, để quyết định đỉnh nào sẽ được khám phá tiếp theo.\n"
   ]
  },
  {
   "cell_type": "code",
   "execution_count": 7,
   "metadata": {},
   "outputs": [],
   "source": [
    "def bfs(g, start):\n",
    "    \"\"\"Performs a BFS on Graph `g` beginning at vertex `start`\n",
    "    Once we're done, the graph will have identified a series of\n",
    "    predecessor links that can be followed to a given solution.\n",
    "    \"\"\"\n",
    "    start.setDistance(0)        # this first vertex is 0 away from itself ;)\n",
    "    start.setPred(None)         # and there's nothing before this vertex\n",
    "    q = Queue() \n",
    "    q.enqueue(start)            # place start vertex in the queue\n",
    "    while q.size() > 0:\n",
    "        current_vertex = q.dequeue()    # Get next item in line\n",
    "        for neighbor in current_vertex.getConnections():\n",
    "            if neighbor.getColor() == \"white\":      # first time seeing it\n",
    "                neighbor.setColor(\"gray\")\n",
    "                neighbor.setDistance(current_vertex.getDistance() + 1)\n",
    "                neighbor.setPred(current_vertex)\n",
    "                q.enqueue(neighbor)\n",
    "            # once we've explored all the neighbors...\n",
    "        current_vertex.setColor(\"black\")\n"
   ]
  },
  {
   "attachments": {},
   "cell_type": "markdown",
   "metadata": {},
   "source": [
    "Khi đã thi hành `BFS`, có thể bắt đầu ở bất kỳ đỉnh nào trong cây tìm kiếm BFS và lần theo nút trước quay trở lại gốc là đỉnh xuất phát. Hàm sau chỉ ra cách lần theo các liên kết nút trước để in ra thang từ."
   ]
  },
  {
   "cell_type": "code",
   "execution_count": 8,
   "metadata": {},
   "outputs": [],
   "source": [
    "def traverse(y):\n",
    "    x = y\n",
    "    while (x.getPred()):\n",
    "        print(x.getId())\n",
    "        x = x.getPred()\n",
    "    print(x.getId())\n"
   ]
  },
  {
   "attachments": {},
   "cell_type": "markdown",
   "metadata": {},
   "source": [
    "Viết chương trình main() để tạo `BFSGraph` này và in ra biểu diễn Python của nó. Với data `“fourletterwords.txt”`\n",
    "Xem data tại: https://www.dropbox.com/s/3iag8n3mzps6ny5/fourletterwords.txt?dl=0\n"
   ]
  },
  {
   "cell_type": "code",
   "execution_count": 9,
   "metadata": {},
   "outputs": [
    {
     "name": "stdout",
     "output_type": "stream",
     "text": [
      "SAGE\n",
      "SALE\n",
      "SALL\n",
      "MALL\n",
      "MOLL\n",
      "MOOL\n",
      "FOOL\n"
     ]
    }
   ],
   "source": [
    "if __name__ == '__main__':\n",
    "    wordgraph = buildGraph(\"fourletterwords.txt\")\n",
    "    bfs(wordgraph, wordgraph.getVertex('FOOL'))\n",
    "    traverse(wordgraph.getVertex('SAGE'))"
   ]
  },
  {
   "attachments": {},
   "cell_type": "markdown",
   "metadata": {},
   "source": [
    "## 3. Depth First Search\n",
    "\n",
    "`DFS` có thể sẽ tạo ra nhiều hơn một cây, gọi là rừng. Như `BFS`, đầu tiên, DFS sử dụng các cung trước để xây dựng cây. Ngoài ra, `DFS` sẽ sử dụng hai biến bổ sung trong lớp Vertex. Các biến này giữ số lần khám phá `(time)` và kết thúc `(finish)`. Số lần khám phá là số bước trong thuật toán tính từ đỉnh đầu tiên. Số lần kết thúc là số bước trong thuật toán trước khi một đỉnh màu đen.\n"
   ]
  },
  {
   "cell_type": "code",
   "execution_count": 10,
   "metadata": {},
   "outputs": [],
   "source": [
    "class DFSGraph(Graph):\n",
    "    \"\"\"Used to create a depth first forest. Inherits from the\n",
    "    Graph class, but also adds a `time` variable used to track\n",
    "    distances along the graph, as well as the two methods below.\n",
    "    \"\"\"\n",
    "    \n",
    "    def __init__(self):\n",
    "        super().__init__()\n",
    "        self.time = 0       # allows us to keep track of times when vertices\n",
    "                            # are \"discovered\"\n",
    "    \n",
    "    def dfs(self):\n",
    "        \"\"\"Keeps track of time (ie. depth) across calls to dfsvisit\n",
    "        for *all* nodes, not just a single node: we want to make sure\n",
    "        that all nodes are considered, and that no vertices are left\n",
    "        out of the forest.\n",
    "        \"\"\"\n",
    "        for aVertex in self:            # iterate over all vertices\n",
    "            aVertex.setColor('white')   # initial value of unexamined vertex\n",
    "            aVertex.setPred(-1)         # no predecessor for first vertex\n",
    "        for aVertex in self:            # now start working our way through\n",
    "            if aVertex.getColor() == 'white':   # a depth-first exploration\n",
    "                self.dfsvisit(aVertex)          # of the vertices\n",
    "    \n",
    "    def dfsvisit(self, startVertex):\n",
    "        \"\"\"Effectively uses a stack (by calling itself recursively) to\n",
    "        explore down through the depth of the graph.\n",
    "        \"\"\"\n",
    "        startVertex.setColor('gray')        # Gray color indicates that this\n",
    "                                            # vertex is the one being explored\n",
    "        self.time += 1                      # Increment the timer\n",
    "        startVertex.setDiscovery(self.time) # Record the current time for this \n",
    "                                            # vertex's discovery\n",
    "        for nextVertex in startVertex.getConnections(): # check all connections\n",
    "            if nextVertex.getColor() == 'white':        # if we've touched this\n",
    "                nextVertex.setPred(startVertex)         # reset pred to our start\n",
    "                self.dfsvisit(nextVertex)               # continue depth search\n",
    "        startVertex.setColor('black')       # After exploring all the way down\n",
    "        self.time += 1                      # Last increment\n",
    "        startVertex.setFinish(self.time)    # Stop \"timing\"\n",
    "\n"
   ]
  },
  {
   "attachments": {},
   "cell_type": "markdown",
   "metadata": {},
   "source": [
    "Nhớ lại rằng lớp Graph, mà từ đó DFSGraph kế thừa, đã có các phương thức mà chúng ta có thể sử dụng để thêm các đỉnh và cạnh vào đồ thị.\n",
    "\n",
    "Viết chương trình main() để tạo DFSGraph này và in ra biểu diễn Python của nó.\n"
   ]
  },
  {
   "cell_type": "code",
   "execution_count": 11,
   "metadata": {},
   "outputs": [
    {
     "name": "stdout",
     "output_type": "stream",
     "text": [
      "A 1 12\n",
      "B 2 11\n",
      "C 3 4\n",
      "D 5 10\n",
      "E 6 9\n",
      "F 7 8\n"
     ]
    }
   ],
   "source": [
    "if __name__ == '__main__':\n",
    "\n",
    "    g = DFSGraph()\n",
    "    g.addVertex('A')\n",
    "    g.addVertex('B')\n",
    "    g.addVertex('C')\n",
    "    g.addVertex('D')\n",
    "    g.addVertex('E')\n",
    "    g.addVertex('F')\n",
    "    g.addEdge('A', 'B', 1)\n",
    "    g.addEdge('B', 'C', 1)\n",
    "    g.addEdge('A', 'D', 1)\n",
    "    g.addEdge('B', 'D', 1)\n",
    "    g.addEdge('D', 'E', 1)\n",
    "    g.addEdge('E', 'F', 1)\n",
    "    g.addEdge('F', 'C', 1)\n",
    "    g.addEdge('E', 'B', 1)\n",
    "    g.dfs()\n",
    "    \n",
    "    for node in g:\n",
    "        print(node.getId(), node.getDiscovery(), node.getFinish())\n"
   ]
  },
  {
   "cell_type": "code",
   "execution_count": null,
   "metadata": {},
   "outputs": [],
   "source": []
  }
 ],
 "metadata": {
  "kernelspec": {
   "display_name": "Python 3",
   "language": "python",
   "name": "python3"
  },
  "language_info": {
   "codemirror_mode": {
    "name": "ipython",
    "version": 3
   },
   "file_extension": ".py",
   "mimetype": "text/x-python",
   "name": "python",
   "nbconvert_exporter": "python",
   "pygments_lexer": "ipython3",
   "version": "3.8.8"
  },
  "orig_nbformat": 4,
  "vscode": {
   "interpreter": {
    "hash": "40d3a090f54c6569ab1632332b64b2c03c39dcf918b08424e98f38b5ae0af88f"
   }
  }
 },
 "nbformat": 4,
 "nbformat_minor": 2
}
